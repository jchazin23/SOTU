{
 "cells": [
  {
   "cell_type": "markdown",
   "metadata": {},
   "source": [
    "## Sentence Length"
   ]
  },
  {
   "cell_type": "code",
   "execution_count": 56,
   "metadata": {
    "collapsed": true
   },
   "outputs": [],
   "source": [
    "from nltk import word_tokenize\n",
    "from nltk.corpus import stopwords\n",
    "import matplotlib.pyplot as plt\n",
    "from collections import Counter\n",
    "import pandas as pd\n",
    "import numpy as np\n",
    "import string\n",
    "import re\n",
    "%matplotlib inline"
   ]
  },
  {
   "cell_type": "code",
   "execution_count": 34,
   "metadata": {
    "collapsed": false
   },
   "outputs": [],
   "source": [
    "#Open the file\n",
    "with open('State of the Union Addresses 1970-2016.txt') as f:\n",
    "    data = f.read()\n",
    "\n",
    "## Stopwords and punctuation.\n",
    "punctuation = list(string.punctuation)\n",
    "stop = stopwords.words('english') + punctuation"
   ]
  },
  {
   "cell_type": "code",
   "execution_count": 81,
   "metadata": {
    "collapsed": false
   },
   "outputs": [],
   "source": [
    "## Here we store the yearly stats.\n",
    "years = []\n",
    "presidents = []\n",
    "lengths = []\n",
    "uniques = []\n",
    "popular_words = []\n",
    "\n",
    "dummy_date = 2007\n",
    "\n",
    "sotus = data.split(\"***\")[1:-1]\n",
    "for sotu in sotus:\n",
    "    ## Split by line and by punctuation.\n",
    "    lines = sotu.split(\"\\n\")\n",
    "    sentences = re.split(\"[\\.\\?\\!]\",sotu)\n",
    "    \n",
    "    \n",
    "    ## Get year and president name.\n",
    "    president = lines[3].strip()\n",
    "    year = lines[4].strip().split(',')[-1].strip()\n",
    "    if len(year) == 4:\n",
    "        years.append(int(year))\n",
    "        presidents.append(president)\n",
    "    else:\n",
    "        years.append(dummy_date)\n",
    "        dummy_date = dummy_date +1\n",
    "        president = year\n",
    "        presidents.append(president)\n",
    "        \n",
    "        \n",
    "    ## Get average number of words per sentence.\n",
    "    ## And number of unique words (- stopwords).\n",
    "    length = []\n",
    "    count_words = Counter()\n",
    "    \n",
    "    for sentence in sentences:\n",
    "        length.append(len(re.split(\"\\s+\", sentence)))\n",
    "        words = [word for word in word_tokenize(sentence.lower()) if word not in stop \n",
    "                and word.find(\".*\\'.*\") == -1]\n",
    "        count_words.update(words)\n",
    "        \n",
    "    popular_words.append(count_words.most_common(10))\n",
    "    \n",
    "    uniques.append(len(count_words))\n",
    "    lengths.append(sum(length)/len(length))"
   ]
  },
  {
   "cell_type": "code",
   "execution_count": 82,
   "metadata": {
    "collapsed": false
   },
   "outputs": [],
   "source": [
    "## Combine all into a data frame\n",
    "sotu_df = pd.DataFrame({'Year' : years,\n",
    " 'President' : presidents,\n",
    " 'Length': lengths,\n",
    " 'Uniques': uniques,\n",
    " 'Common': popular_words\n",
    "  })"
   ]
  },
  {
   "cell_type": "code",
   "execution_count": 86,
   "metadata": {
    "collapsed": false
   },
   "outputs": [],
   "source": [
    "sotu_df.to_csv('sotu_df.csv', index = False)"
   ]
  }
 ],
 "metadata": {
  "kernelspec": {
   "display_name": "Python 2",
   "language": "python",
   "name": "python2"
  },
  "language_info": {
   "codemirror_mode": {
    "name": "ipython",
    "version": 2
   },
   "file_extension": ".py",
   "mimetype": "text/x-python",
   "name": "python",
   "nbconvert_exporter": "python",
   "pygments_lexer": "ipython2",
   "version": "2.7.11"
  }
 },
 "nbformat": 4,
 "nbformat_minor": 0
}
